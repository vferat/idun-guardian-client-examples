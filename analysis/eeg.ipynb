{
 "cells": [
  {
   "cell_type": "markdown",
   "id": "d43d34ef",
   "metadata": {},
   "source": [
    "# EEG analysis"
   ]
  },
  {
   "cell_type": "code",
   "execution_count": null,
   "id": "b27554cf",
   "metadata": {},
   "outputs": [],
   "source": [
    "import os\n",
    "import time\n",
    "import mne\n",
    "import numpy as np\n",
    "import pandas as pd\n",
    "\n",
    "import bsl\n",
    "from bsl import StreamPlayer, datasets\n",
    "from bsl.externals import pylsl  # distributed version of pylsl\n",
    "from bsl.triggers import TriggerDef\n",
    "\n",
    "import liesl\n",
    "import pylsl\n",
    "\n",
    "import math\n",
    "import matplotlib\n",
    "import matplotlib.pyplot as plt\n",
    "\n",
    "# %matplotlib qt\n",
    "# mne.set_config('MNE_BROWSER_BACKEND', 'qt')"
   ]
  },
  {
   "cell_type": "code",
   "execution_count": null,
   "id": "873102b9",
   "metadata": {},
   "outputs": [],
   "source": [
    "from idun_guardian_client.igeb_api import GuardianAPI\n",
    "import datetime\n",
    "\n",
    "api = GuardianAPI()\n",
    "device_id = \"\"\n",
    "\n",
    "# get a list of all recordings\n",
    "recording_list = api.get_recordings_info_all(\n",
    "    device_id=device_id\n",
    ")  # Device ID is derived from the MAC address of the earbud and in the log file\n",
    "\n",
    "recordings = sorted(recording_list, key=lambda x: datetime.datetime.fromisoformat(x['startDeviceTimestamp'][:-5]))\n",
    "recording_id = recordings[-1][\"recordingID\"]\n",
    "# download recording\n",
    "api.download_recording_by_id(\n",
    "    device_id=device_id, recording_id=recording_id\n",
    ")\n",
    "print(recordings[-1])\n",
    "\n",
    "path = os.path.join(\"recordings\", recording_id, f\"{recording_id}_eeg.csv\")\n",
    "df = pd.read_csv(path)\n",
    "info = mne.create_info(sfreq=250, ch_names=['ch1'], ch_types=['eeg'])\n",
    "data = np.array([df['ch1'].values])\n",
    "raw = mne.io.RawArray(data=data, info=info)\n",
    "raw.filter(1,30)"
   ]
  },
  {
   "cell_type": "markdown",
   "id": "522afe38",
   "metadata": {},
   "source": [
    "## Convert it into MNE raw format"
   ]
  },
  {
   "cell_type": "code",
   "execution_count": null,
   "id": "b5692aa0",
   "metadata": {},
   "outputs": [],
   "source": [
    "raw.plot(scalings='auto')"
   ]
  },
  {
   "cell_type": "code",
   "execution_count": null,
   "id": "b1f4fa36",
   "metadata": {},
   "outputs": [],
   "source": [
    "raw.plot_psd(fmin=0, fmax=40, dB=True, estimate='power')"
   ]
  }
 ],
 "metadata": {
  "kernelspec": {
   "display_name": "idun_guardian",
   "language": "python",
   "name": "python3"
  },
  "language_info": {
   "codemirror_mode": {
    "name": "ipython",
    "version": 3
   },
   "file_extension": ".py",
   "mimetype": "text/x-python",
   "name": "python",
   "nbconvert_exporter": "python",
   "pygments_lexer": "ipython3",
   "version": "3.10.8"
  },
  "vscode": {
   "interpreter": {
    "hash": "214084c6e10e2a7d97ed3ec3aec52b376c0ef41da2a4e16d937e55caa1055ec7"
   }
  }
 },
 "nbformat": 4,
 "nbformat_minor": 5
}
